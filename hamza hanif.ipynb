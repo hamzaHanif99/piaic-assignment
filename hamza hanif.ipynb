{
 "cells": [
  {
   "cell_type": "code",
   "execution_count": 25,
   "metadata": {},
   "outputs": [
    {
     "name": "stdout",
     "output_type": "stream",
     "text": [
      "Enter Any First Number : 5\n",
      "Enter Any Second Number : 9\n",
      "9 Is Not Completely Divisible By  5\n"
     ]
    }
   ],
   "source": [
    "#Question No.3\n",
    "a = int(input(\"Enter Any First Number : \"))\n",
    "b = int(input(\"Enter Any Second Number : \"))\n",
    "if (b%a == 0):\n",
    "    print(b,\"Is Completely Divisible By \",a)\n",
    "else:\n",
    "    print(b,\"Is Not Completely Divisible By \" ,a)"
   ]
  },
  {
   "cell_type": "code",
   "execution_count": 10,
   "metadata": {
    "scrolled": true
   },
   "outputs": [
    {
     "name": "stdout",
     "output_type": "stream",
     "text": [
      "Enter Radius Of Sphere : 1.3\n",
      "Enter Pie Value : 3.13\n",
      "Volume Of Sphere Is : 5.425333333333334\n"
     ]
    }
   ],
   "source": [
    "#Question No.5\n",
    "r = float(input(\"Enter Radius Of Sphere : \"))\n",
    "pie = float(input(\"Enter Pie Value : \")) \n",
    "a = (4/3*r*pie)\n",
    "\n",
    "print(\"Volume Of Sphere Is :\" , a)"
   ]
  },
  {
   "cell_type": "code",
   "execution_count": 1,
   "metadata": {},
   "outputs": [
    {
     "name": "stdout",
     "output_type": "stream",
     "text": [
      "Enter Radius Of Cirle : 0.5\n",
      "Enter Pie Value : 3.14\n",
      "Area Of Circle Is :  0.785\n"
     ]
    }
   ],
   "source": [
    "#Question No.1\n",
    "r = float(input(\"Enter Radius Of Cirle : \"))\n",
    "pie = float(input(\"Enter Pie Value : \")) \n",
    "a = (pie*r*r)\n",
    "\n",
    "print(\"Area Of Circle Is : \", a)"
   ]
  },
  {
   "cell_type": "code",
   "execution_count": 21,
   "metadata": {},
   "outputs": [
    {
     "name": "stdout",
     "output_type": "stream",
     "text": [
      "Enter Number :8\n",
      "Number Is Positive\n"
     ]
    }
   ],
   "source": [
    "#Question No.2\n",
    "a = int(input(\"Enter Number :\"))\n",
    "if(a > 0):\n",
    "    print(\"Number Is Positive\")\n",
    "elif (a == 0):\n",
    "    print(\"Number Entered Zero\")\n",
    "else:\n",
    "    print(\"Number Entered Is Negative\")"
   ]
  },
  {
   "cell_type": "code",
   "execution_count": 34,
   "metadata": {},
   "outputs": [
    {
     "name": "stdout",
     "output_type": "stream",
     "text": [
      "Enter Number :27\n",
      "27 Is a Odd Number\n"
     ]
    }
   ],
   "source": [
    "#Question No.7\n",
    "a = int(input(\"Enter Number :\"))\n",
    "if(a != 0):\n",
    "    if(a%2 == 0):\n",
    "        print(a,\"Is a Even Number\")\n",
    "    else:\n",
    "        print(a,\"Is a Odd Number\")"
   ]
  },
  {
   "cell_type": "code",
   "execution_count": 37,
   "metadata": {},
   "outputs": [
    {
     "name": "stdout",
     "output_type": "stream",
     "text": [
      "8 Days Between (2019,6,12) and (2019,6,20)\n"
     ]
    }
   ],
   "source": [
    "#Queestion No.4\n",
    "from datetime import date\n",
    "a = date(2019,6,12)\n",
    "b = date(2019,6,20)\n",
    "c = b - a\n",
    "print(c.days,\"Days Between (2019,6,12) and (2019,6,20)\")"
   ]
  },
  {
   "cell_type": "code",
   "execution_count": 46,
   "metadata": {},
   "outputs": [
    {
     "name": "stdout",
     "output_type": "stream",
     "text": [
      "Enter Any Alphabet : T\n",
      "T Is Not A Vowle\n"
     ]
    }
   ],
   "source": [
    "#Question No.8\n",
    "ch = (input(\"Enter Any Alphabet : \"))\n",
    "if(ch == 'a' or ch == 'A' or ch == 'e' or ch == 'E' or ch == 'i' or ch == 'I' or ch == 'o' or ch == 'O' or ch == 'u' \n",
    "   or ch == 'U'):\n",
    "    print(ch,\"Is a Vowle\")\n",
    "else:\n",
    "    print(ch,\"Is Not A Vowle\")\n",
    "    \n"
   ]
  },
  {
   "cell_type": "code",
   "execution_count": 47,
   "metadata": {},
   "outputs": [
    {
     "name": "stdout",
     "output_type": "stream",
     "text": [
      "Enter Base Of Triangle :4\n",
      "Enter Height Of Triangle :4\n",
      "Area Of Triangle Is :  8.0\n"
     ]
    }
   ],
   "source": [
    "#Question No.9\n",
    "a = int(input(\"Enter Base Of Triangle :\"))\n",
    "b = int(input(\"Enter Height Of Triangle :\"))\n",
    "ch = (a*b/2)\n",
    "print(\"Area Of Triangle Is : \",ch)"
   ]
  },
  {
   "cell_type": "code",
   "execution_count": 67,
   "metadata": {},
   "outputs": [
    {
     "name": "stdout",
     "output_type": "stream",
     "text": [
      "Enter Amount : 10000\n",
      "Enter Year :5\n",
      "Enter Rate : 500\n",
      "Interest Amount Is : 250000.0\n"
     ]
    }
   ],
   "source": [
    "#Question No.10\n",
    "amt = float(input(\"Enter Amount : \"))\n",
    "time = float(input(\"Enter Year :\"))\n",
    "rate = float(input(\"Enter Rate : \"))\n",
    "def intereset(ch):\n",
    "     return(amt*time*rate) / 100\n",
    "k = intereset(ch)\n",
    "print(\"Interest Amount Is :\" ,k)"
   ]
  },
  {
   "cell_type": "code",
   "execution_count": 80,
   "metadata": {},
   "outputs": [
    {
     "name": "stdout",
     "output_type": "stream",
     "text": [
      "Enter Height in cm :180\n",
      "Enter Weight in Kg :75\n",
      "Your BMI Is :  23.148148148148145\n"
     ]
    }
   ],
   "source": [
    "#Question No.13\n",
    "a = float(input(\"Enter Height in cm :\"))\n",
    "c = a / 100\n",
    "b = float(input(\"Enter Weight in Kg :\"))\n",
    "def result(a,b):\n",
    "    \n",
    "    return b / (c*c)\n",
    "\n",
    "k = result(a,b)\n",
    "print(\"Your BMI Is : \",k)"
   ]
  },
  {
   "cell_type": "code",
   "execution_count": 82,
   "metadata": {},
   "outputs": [
    {
     "name": "stdout",
     "output_type": "stream",
     "text": [
      "Enter Height in ft :10\n",
      "Height In Centmeter :  304.8\n"
     ]
    }
   ],
   "source": [
    "#Question No.12\n",
    "a = float(input(\"Enter Height in ft :\"))\n",
    "def height(c):\n",
    "    return a * 30.48\n",
    "\n",
    "c = height(a)\n",
    "print(\"Height In Centmeter : \",c)"
   ]
  },
  {
   "cell_type": "code",
   "execution_count": 87,
   "metadata": {},
   "outputs": [
    {
     "name": "stdout",
     "output_type": "stream",
     "text": [
      "Enter Any Number :5\n",
      "Sum of n Positive Intergers is  15.0\n"
     ]
    }
   ],
   "source": [
    "#Question No.14\n",
    "a = int(input(\"Enter Any Number :\"))\n",
    "def sum(k):\n",
    "    return (a*(a + 1))/2\n",
    "\n",
    "ch = sum(k)\n",
    "print(\"Sum of n Positive Intergers is \" ,ch)"
   ]
  },
  {
   "cell_type": "code",
   "execution_count": 92,
   "metadata": {},
   "outputs": [
    {
     "name": "stdout",
     "output_type": "stream",
     "text": [
      "Enter Number : 1234\n",
      "The Total Sum Of Digit Is :  10\n"
     ]
    }
   ],
   "source": [
    "#Question No.15\n",
    "n = int(input(\"Enter Number : \"))\n",
    "t= 0\n",
    "while (n>0):\n",
    "    d = n%10\n",
    "    t = t + d\n",
    "    n = n//10\n",
    "    \n",
    "print(\"The Total Sum Of Digit Is : \", t)"
   ]
  },
  {
   "cell_type": "code",
   "execution_count": 97,
   "metadata": {},
   "outputs": [
    {
     "name": "stdout",
     "output_type": "stream",
     "text": [
      "enter a number1101\n",
      "Decimal Representation Of 1101 is  13\n"
     ]
    }
   ],
   "source": [
    "#Question No.17\n",
    "import math as m\n",
    "def bin_to_dec(num):\n",
    "   value=0\n",
    "   for i in range(len(num)):\n",
    "     digit=num.pop()\n",
    "     if digit =='1':\n",
    "        value=round(value + m.pow(2,i))\n",
    "   \n",
    "   print(\"Decimal Representation Of 1101 is \",value)\n",
    "#main\n",
    "a=list(input(\"enter a number\")) \n",
    "total= bin_to_dec(a)\n"
   ]
  },
  {
   "cell_type": "markdown",
   "metadata": {},
   "source": []
  },
  {
   "cell_type": "code",
   "execution_count": 98,
   "metadata": {},
   "outputs": [
    {
     "name": "stdout",
     "output_type": "stream",
     "text": [
      "\n",
      "\n",
      "1\n",
      "\n",
      "12\n",
      "\n",
      "123\n",
      "\n",
      "1234\n",
      "\n",
      "12345\n",
      "\n",
      "1234\n",
      "\n",
      "123\n",
      "\n",
      "12\n",
      "\n",
      "1\n",
      "\n",
      "\n",
      "\n"
     ]
    }
   ],
   "source": [
    "#Question No.22\n",
    "n=6\n",
    "for i in range(1,n):\n",
    "    for j in range(1,i):\n",
    "        print(j,end=\"\")\n",
    "    print(\"\\n\")\n",
    "for i in range(n,0,-1):\n",
    "    for j in  range(1,i):\n",
    "        print(j,end=\"\")\n",
    "    print(\"\\n\")"
   ]
  },
  {
   "cell_type": "code",
   "execution_count": 99,
   "metadata": {},
   "outputs": [
    {
     "name": "stdout",
     "output_type": "stream",
     "text": [
      "\n",
      "\n",
      "* \n",
      "\n",
      "* * \n",
      "\n",
      "* * * \n",
      "\n",
      "* * * * \n",
      "\n",
      "* * * * * \n",
      "\n",
      "* * * * \n",
      "\n",
      "* * * \n",
      "\n",
      "* * \n",
      "\n",
      "* \n",
      "\n"
     ]
    }
   ],
   "source": [
    "#Question No.21\n",
    "n=5\n",
    "for i in range(n):\n",
    "    for j in range(i):\n",
    "        print(\"*\",end=\" \")\n",
    "    print(\"\\n\")\n",
    "for i in range(n,0,-1):\n",
    "    for j in range(i):\n",
    "        print(\"*\",end=\" \")\n",
    "    print(\"\\n\")"
   ]
  },
  {
   "cell_type": "code",
   "execution_count": 106,
   "metadata": {},
   "outputs": [
    {
     "name": "stdout",
     "output_type": "stream",
     "text": [
      "\n",
      "\n",
      "1\n",
      "\n",
      "22\n",
      "\n",
      "333\n",
      "\n",
      "4444\n",
      "\n",
      "55555\n",
      "\n",
      "666666\n",
      "\n",
      "7777777\n",
      "\n",
      "88888888\n",
      "\n",
      "999999999\n",
      "\n"
     ]
    }
   ],
   "source": [
    "#Question No.23\n",
    "n=10\n",
    "for i in range(0,n):\n",
    "    for j in  range(0,i):\n",
    "        print(i,end=\"\")\n",
    "    print(\"\\n\")"
   ]
  },
  {
   "cell_type": "code",
   "execution_count": 13,
   "metadata": {},
   "outputs": [
    {
     "name": "stdout",
     "output_type": "stream",
     "text": [
      "Enter any number in decimal :5\n",
      "5 in Binary = 0b101\n"
     ]
    }
   ],
   "source": [
    "#Question No.16\n",
    "dec = int(input(\"Enter any number in decimal :\"))\n",
    "decimal = int(dec)\n",
    "print(decimal,\"in Binary =\",bin(decimal))\n",
    "\n"
   ]
  },
  {
   "cell_type": "code",
   "execution_count": 1,
   "metadata": {},
   "outputs": [
    {
     "name": "stdout",
     "output_type": "stream",
     "text": [
      "Enter Any Name :124 abdullah azzam 123\n",
      "The NUmber of digit IS :  6\n",
      "The Number Of Character Is :  22\n"
     ]
    }
   ],
   "source": [
    "#Question No.20\n",
    "string = input(\"Enter Any Name :\")\n",
    "count1 = 0\n",
    "count2 = 0\n",
    "\n",
    "for i in string:\n",
    "    if(i.isdigit()):\n",
    "        count1 = count1 + 1\n",
    "        \n",
    "    count2 = count2 + 1\n",
    "\n",
    "print(\"The NUmber of digit IS : \",count1)\n",
    "\n",
    "print(\"The Number Of Character Is : \",count2)"
   ]
  },
  {
   "cell_type": "code",
   "execution_count": 3,
   "metadata": {},
   "outputs": [
    {
     "name": "stdout",
     "output_type": "stream",
     "text": [
      "Enter Any Word :hello\n",
      "hello\n",
      "hello\n",
      "hello\n",
      "hello\n"
     ]
    }
   ],
   "source": [
    "#Question No.6\n",
    "a = input(\"Enter Any Word :\")\n",
    "n = 4\n",
    "for i in range (n):\n",
    "    print(\"hello\")"
   ]
  },
  {
   "cell_type": "code",
   "execution_count": 7,
   "metadata": {},
   "outputs": [
    {
     "name": "stdout",
     "output_type": "stream",
     "text": [
      "Enter A String :AHAHAHAHA\n",
      "String : AHAHAHAHA\n",
      "Reverse : AHAHAHAHA\n",
      "It is a Palindrome\n"
     ]
    }
   ],
   "source": [
    "#Question No.19\n",
    "\n",
    "def check(st):\n",
    "    rev = st[::-1]\n",
    "    print(\"String :\" ,st)\n",
    "    print(\"Reverse :\" ,rev)\n",
    "    if(st==rev):\n",
    "        return True\n",
    "    else:\n",
    "        return False\n",
    "    \n",
    "x = input(\"Enter A String :\")\n",
    "if check(x):\n",
    "    print(\"It is a Palindrome\")\n",
    "else:\n",
    "     print(\"It is Not a Palindrome\")\n",
    "    "
   ]
  },
  {
   "cell_type": "code",
   "execution_count": 9,
   "metadata": {},
   "outputs": [
    {
     "name": "stdout",
     "output_type": "stream",
     "text": [
      "Enter a String :The Pakistan is a greatest country in the world\n",
      "Vowles in String :  14\n",
      "Consonant in String : 25\n"
     ]
    }
   ],
   "source": [
    "#Question No.18\n",
    "\n",
    "vcount = 0\n",
    "ccount = 0\n",
    "n = input(\"Enter a String :\")\n",
    "n = n.lower()\n",
    "\n",
    "for i in range(0,len(n)):\n",
    "    if n[i] in ('a','e','i','o','u'):\n",
    "        vcount = vcount + 1\n",
    "    elif(n[i]>='a' and n[i]<='z'):\n",
    "        ccount = ccount + 1\n",
    "\n",
    "    \n",
    "print(\"Vowles in String : \",vcount)\n",
    "print(\"Consonant in String :\",ccount)"
   ]
  },
  {
   "cell_type": "code",
   "execution_count": null,
   "metadata": {},
   "outputs": [],
   "source": []
  }
 ],
 "metadata": {
  "kernelspec": {
   "display_name": "Python 3",
   "language": "python",
   "name": "python3"
  },
  "language_info": {
   "codemirror_mode": {
    "name": "ipython",
    "version": 3
   },
   "file_extension": ".py",
   "mimetype": "text/x-python",
   "name": "python",
   "nbconvert_exporter": "python",
   "pygments_lexer": "ipython3",
   "version": "3.7.3"
  }
 },
 "nbformat": 4,
 "nbformat_minor": 2
}
